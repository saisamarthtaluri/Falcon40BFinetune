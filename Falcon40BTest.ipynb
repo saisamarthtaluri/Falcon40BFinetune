{
 "cells": [
  {
   "cell_type": "code",
   "execution_count": 1,
   "id": "b4c72adc-f9da-437d-a33d-b528667c50b1",
   "metadata": {},
   "outputs": [],
   "source": [
    "prompt = f\"\"\"\n",
    "###Human: For the following conversation between a Doctor and Patient, summarise the medically relevant content in 1 paragraph.\n",
    "Conversation:\n",
    "Doctor: Good morning! How have you been feeling lately?\n",
    "Patient: Good morning, Doctor. I've been feeling a bit tired and fatigued, and I've noticed that I'm unusually thirsty all the time. Additionally, I've been going to the bathroom more frequently than usual.\n",
    "Doctor: I see. Those symptoms could be indicative of diabetes. Have you ever been diagnosed with diabetes before?\n",
    "Patient: No, Doctor, this is the first time I've experienced these symptoms, and I must admit, it's a bit concerning.\n",
    "Doctor: I understand your concerns, and we'll address them promptly. I'd like to run some tests to check your blood sugar levels and determine if diabetes is the cause of these symptoms. In the meantime, can you tell me a bit about your diet and exercise routine?\n",
    "Patient: Sure. I generally try to eat a balanced diet, but I must admit I have a bit of a sweet tooth. As for exercise, I haven't been as active as I used to be due to my demanding work schedule.\n",
    "Doctor: It's good to know about your diet and activity levels. Both play a significant role in managing diabetes. Reducing sugar intake and incorporating regular physical activity can help control blood sugar levels. If the tests confirm diabetes, we can create a personalized plan to manage your condition effectively.\n",
    "Patient: I'm a bit worried about having to make significant lifestyle changes.\n",
    "Doctor: I understand it can be overwhelming, but managing diabetes is crucial for your overall health. We'll take it one step at a time and work together to create a plan that fits your lifestyle and preferences. Remember, you're not alone in this; I'll be here to support you every step of the way.\n",
    "Patient: Thank you, Doctor. That's reassuring to hear. I'll do my best to follow your advice and make the necessary changes.\n",
    "#Assistant: \n",
    "\"\"\".strip()"
   ]
  },
  {
   "cell_type": "code",
   "execution_count": 2,
   "id": "76a249bc-10c5-4c62-811f-7aa1ea478dca",
   "metadata": {},
   "outputs": [],
   "source": [
    "def prompt(instruction):\n",
    "    prompt = \"{0}\\n\\n{1}\\n{2}\\n\\n{3}\".format(\n",
    "        \"Below is an instruction that describes a task. Write a response that appropriately completes the request.\",\n",
    "        \"### Instruction:\",\n",
    "        instruction,\n",
    "        \"### Response:\"        \n",
    "    )\n",
    "    return prompt"
   ]
  },
  {
   "cell_type": "code",
   "execution_count": 3,
   "id": "8a1716b0-f26f-4555-8b7b-db79d78d1492",
   "metadata": {},
   "outputs": [],
   "source": [
    "instruction = \"\"\" For the following conversation between a Doctor and Patient, summarise the medically relevant content in 1 paragraph: \n",
    "Doctor: Good morning! How have you been feeling lately?\n",
    "Patient: Good morning, Doctor. I've been feeling a bit tired and fatigued, and I've noticed that I'm unusually thirsty all the time. Additionally, I've been going to the bathroom more frequently than usual.\n",
    "Doctor: I see. Those symptoms could be indicative of diabetes. Have you ever been diagnosed with diabetes before?\n",
    "Patient: No, Doctor, this is the first time I've experienced these symptoms, and I must admit, it's a bit concerning.\n",
    "Doctor: I understand your concerns, and we'll address them promptly. I'd like to run some tests to check your blood sugar levels and determine if diabetes is the cause of these symptoms. In the meantime, can you tell me a bit about your diet and exercise routine?\n",
    "Patient: Sure. I generally try to eat a balanced diet, but I must admit I have a bit of a sweet tooth. As for exercise, I haven't been as active as I used to be due to my demanding work schedule.\n",
    "Doctor: It's good to know about your diet and activity levels. Both play a significant role in managing diabetes. Reducing sugar intake and incorporating regular physical activity can help control blood sugar levels. If the tests confirm diabetes, we can create a personalized plan to manage your condition effectively.\n",
    "Patient: I'm a bit worried about having to make significant lifestyle changes.\n",
    "Doctor: I understand it can be overwhelming, but managing diabetes is crucial for your overall health. We'll take it one step at a time and work together to create a plan that fits your lifestyle and preferences. Remember, you're not alone in this; I'll be here to support you every step of the way.\n",
    "Patient: Thank you, Doctor. That's reassuring to hear. I'll do my best to follow your advice and make the necessary changes.\n",
    "\"\"\"\n",
    "\n",
    "prompt = prompt(instruction)"
   ]
  },
  {
   "cell_type": "code",
   "execution_count": 4,
   "id": "a24e822b-9ac0-40be-86ee-221711e3f9ef",
   "metadata": {},
   "outputs": [],
   "source": [
    "import torch\n",
    "from transformers import AutoModelForCausalLM, AutoTokenizer, BitsAndBytesConfig, AutoTokenizer"
   ]
  },
  {
   "cell_type": "code",
   "execution_count": 5,
   "id": "ca9dc0ae-3dbc-4ede-a69f-53b9eadf26e2",
   "metadata": {},
   "outputs": [],
   "source": [
    "tokenizer = AutoTokenizer.from_pretrained(\"tiiuae/falcon-40b\")\n",
    "tokenizer.pad_token = tokenizer.eos_token"
   ]
  },
  {
   "cell_type": "code",
   "execution_count": 6,
   "id": "1a0f53b5-77ea-4887-a24e-051ec7649386",
   "metadata": {},
   "outputs": [],
   "source": [
    "DEVICE = \"cuda:0\"\n",
    " \n",
    "encoding = tokenizer(prompt, return_tensors=\"pt\").to(DEVICE)"
   ]
  },
  {
   "cell_type": "code",
   "execution_count": 7,
   "id": "b604bfc3-9905-4107-9b7a-680fb7ed817b",
   "metadata": {},
   "outputs": [
    {
     "name": "stdout",
     "output_type": "stream",
     "text": [
      "\n",
      "===================================BUG REPORT===================================\n",
      "Welcome to bitsandbytes. For bug reports, please run\n",
      "\n",
      "python -m bitsandbytes\n",
      "\n",
      " and submit this information together with your error trace to: https://github.com/TimDettmers/bitsandbytes/issues\n",
      "================================================================================\n",
      "bin /opt/conda/envs/tf/lib/python3.9/site-packages/bitsandbytes/libbitsandbytes_cuda118.so\n",
      "CUDA SETUP: CUDA runtime path found: /opt/conda/lib/libcudart.so.11.0\n",
      "CUDA SETUP: Highest compute capability among GPUs detected: 8.0\n",
      "CUDA SETUP: Detected CUDA version 118\n",
      "CUDA SETUP: Loading binary /opt/conda/envs/tf/lib/python3.9/site-packages/bitsandbytes/libbitsandbytes_cuda118.so...\n"
     ]
    },
    {
     "name": "stderr",
     "output_type": "stream",
     "text": [
      "/opt/conda/envs/tf/lib/python3.9/site-packages/bitsandbytes/cuda_setup/main.py:149: UserWarning: Found duplicate ['libcudart.so', 'libcudart.so.11.0', 'libcudart.so.12.0'] files: {PosixPath('/opt/conda/lib/libcudart.so.11.0'), PosixPath('/opt/conda/lib/libcudart.so')}.. We'll flip a coin and try one of these, in order to fail forward.\n",
      "Either way, this might cause trouble in the future:\n",
      "If you get `CUDA error: invalid device function` errors, the above might be the cause and the solution is to make sure only one ['libcudart.so', 'libcudart.so.11.0', 'libcudart.so.12.0'] in the paths that we search based on your env.\n",
      "  warn(msg)\n"
     ]
    },
    {
     "name": "stdout",
     "output_type": "stream",
     "text": [
      "huggingface/tokenizers: The current process just got forked, after parallelism has already been used. Disabling parallelism to avoid deadlocks...\n",
      "To disable this warning, you can either:\n",
      "\t- Avoid using `tokenizers` before the fork if possible\n",
      "\t- Explicitly set the environment variable TOKENIZERS_PARALLELISM=(true | false)\n"
     ]
    },
    {
     "name": "stderr",
     "output_type": "stream",
     "text": [
      "2023-07-21 10:48:46.458142: I tensorflow/core/util/port.cc:110] oneDNN custom operations are on. You may see slightly different numerical results due to floating-point round-off errors from different computation orders. To turn them off, set the environment variable `TF_ENABLE_ONEDNN_OPTS=0`.\n",
      "2023-07-21 10:48:46.530874: I tensorflow/core/platform/cpu_feature_guard.cc:182] This TensorFlow binary is optimized to use available CPU instructions in performance-critical operations.\n",
      "To enable the following instructions: AVX2 AVX512F AVX512_VNNI FMA, in other operations, rebuild TensorFlow with the appropriate compiler flags.\n"
     ]
    },
    {
     "name": "stdout",
     "output_type": "stream",
     "text": [
      "huggingface/tokenizers: The current process just got forked, after parallelism has already been used. Disabling parallelism to avoid deadlocks...\n",
      "To disable this warning, you can either:\n",
      "\t- Avoid using `tokenizers` before the fork if possible\n",
      "\t- Explicitly set the environment variable TOKENIZERS_PARALLELISM=(true | false)\n",
      "huggingface/tokenizers: The current process just got forked, after parallelism has already been used. Disabling parallelism to avoid deadlocks...\n",
      "To disable this warning, you can either:\n",
      "\t- Avoid using `tokenizers` before the fork if possible\n",
      "\t- Explicitly set the environment variable TOKENIZERS_PARALLELISM=(true | false)\n",
      "huggingface/tokenizers: The current process just got forked, after parallelism has already been used. Disabling parallelism to avoid deadlocks...\n",
      "To disable this warning, you can either:\n",
      "\t- Avoid using `tokenizers` before the fork if possible\n",
      "\t- Explicitly set the environment variable TOKENIZERS_PARALLELISM=(true | false)\n"
     ]
    },
    {
     "data": {
      "application/vnd.jupyter.widget-view+json": {
       "model_id": "5ddb49c7b0fd4b638bc6d3b8e07e842d",
       "version_major": 2,
       "version_minor": 0
      },
      "text/plain": [
       "Loading checkpoint shards:   0%|          | 0/9 [00:00<?, ?it/s]"
      ]
     },
     "metadata": {},
     "output_type": "display_data"
    }
   ],
   "source": [
    "model_name = \"tiiuae/falcon-40b-instruct\"\n",
    "\n",
    "bnb_config = BitsAndBytesConfig(\n",
    "    load_in_4bit=True,\n",
    "    bnb_4bit_use_double_quant=True,\n",
    "    bnb_4bit_quant_type=\"nf4\",\n",
    "    bnb_4bit_compute_dtype=torch.float16,\n",
    ")\n",
    "\n",
    "model = AutoModelForCausalLM.from_pretrained(\n",
    "    model_name,\n",
    "    quantization_config=bnb_config,\n",
    "    device_map=\"auto\",\n",
    "    trust_remote_code=True\n",
    ")"
   ]
  },
  {
   "cell_type": "code",
   "execution_count": 9,
   "id": "f711b7ab-bc25-47c5-8d12-fdd38daa867a",
   "metadata": {},
   "outputs": [],
   "source": [
    "generation_config = model.generation_config\n",
    "generation_config.max_new_tokens = 200\n",
    "generation_config.temperature = 0.1\n",
    "generation_config.num_return_sequences = 1\n",
    "generation_config.pad_token_id = tokenizer.eos_token_id\n",
    "generation_config.eos_token_id = tokenizer.eos_token_id"
   ]
  },
  {
   "cell_type": "code",
   "execution_count": 17,
   "id": "a6edb9f3-d94c-4c68-9d54-88ee0532fb76",
   "metadata": {},
   "outputs": [],
   "source": [
    "from peft import PeftModel\n",
    "\n",
    "model = PeftModel.from_pretrained(\n",
    "    model,\n",
    "    \"saisamarth/Falcon40B-V1\",\n",
    ")"
   ]
  },
  {
   "cell_type": "code",
   "execution_count": 10,
   "id": "cc3bb103-9853-45f8-8d7b-bf0d9a302eeb",
   "metadata": {},
   "outputs": [],
   "source": [
    "with torch.inference_mode():\n",
    "    outputs = model.generate(\n",
    "        input_ids=encoding.input_ids,\n",
    "        attention_mask=encoding.attention_mask,\n",
    "        generation_config=generation_config,\n",
    "        do_sample=False,\n",
    "        use_cache=True,\n",
    "    )"
   ]
  },
  {
   "cell_type": "code",
   "execution_count": 11,
   "id": "b0c6f5d3-87ba-46c2-826b-8c86669a0d11",
   "metadata": {},
   "outputs": [
    {
     "name": "stdout",
     "output_type": "stream",
     "text": [
      "Below is an instruction that describes a task. Write a response that appropriately completes the request.\n",
      "\n",
      "### Instruction:\n",
      " For the following conversation between a Doctor and Patient, summarise the medically relevant content in 1 paragraph: \n",
      "Doctor: Good morning! How have you been feeling lately?\n",
      "Patient: Good morning, Doctor. I've been feeling a bit tired and fatigued, and I've noticed that I'm unusually thirsty all the time. Additionally, I've been going to the bathroom more frequently than usual.\n",
      "Doctor: I see. Those symptoms could be indicative of diabetes. Have you ever been diagnosed with diabetes before?\n",
      "Patient: No, Doctor, this is the first time I've experienced these symptoms, and I must admit, it's a bit concerning.\n",
      "Doctor: I understand your concerns, and we'll address them promptly. I'd like to run some tests to check your blood sugar levels and determine if diabetes is the cause of these symptoms. In the meantime, can you tell me a bit about your diet and exercise routine?\n",
      "Patient: Sure. I generally try to eat a balanced diet, but I must admit I have a bit of a sweet tooth. As for exercise, I haven't been as active as I used to be due to my demanding work schedule.\n",
      "Doctor: It's good to know about your diet and activity levels. Both play a significant role in managing diabetes. Reducing sugar intake and incorporating regular physical activity can help control blood sugar levels. If the tests confirm diabetes, we can create a personalized plan to manage your condition effectively.\n",
      "Patient: I'm a bit worried about having to make significant lifestyle changes.\n",
      "Doctor: I understand it can be overwhelming, but managing diabetes is crucial for your overall health. We'll take it one step at a time and work together to create a plan that fits your lifestyle and preferences. Remember, you're not alone in this; I'll be here to support you every step of the way.\n",
      "Patient: Thank you, Doctor. That's reassuring to hear. I'll do my best to follow your advice and make the necessary changes.\n",
      "\n",
      "\n",
      "### Response:\n",
      "The patient has been experiencing symptoms of fatigue, thirst, and frequent urination, which could be indicative of diabetes. The doctor recommends running tests to check blood sugar levels and determine if diabetes is the cause of these symptoms. The patient admits to having a sweet tooth and not being as active as they used to be due to work demands. The doctor explains that reducing sugar intake and incorporating regular physical activity can help control blood sugar levels. If the tests confirm diabetes, the doctor will create a personalized plan to manage the condition effectively. The patient is worried about making significant lifestyle changes, but the doctor reassures them that they are not alone and will support them every step of the way.\n"
     ]
    }
   ],
   "source": [
    "print(tokenizer.decode(outputs[0], skip_special_tokens=True))"
   ]
  },
  {
   "cell_type": "code",
   "execution_count": null,
   "id": "f82598f5-43b4-4cae-b0cf-d168d8046365",
   "metadata": {},
   "outputs": [],
   "source": []
  }
 ],
 "metadata": {
  "kernelspec": {
   "display_name": "tf",
   "language": "python",
   "name": "tf"
  },
  "language_info": {
   "codemirror_mode": {
    "name": "ipython",
    "version": 3
   },
   "file_extension": ".py",
   "mimetype": "text/x-python",
   "name": "python",
   "nbconvert_exporter": "python",
   "pygments_lexer": "ipython3",
   "version": "3.9.16"
  }
 },
 "nbformat": 4,
 "nbformat_minor": 5
}
